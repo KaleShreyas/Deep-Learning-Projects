{
 "cells": [
  {
   "cell_type": "markdown",
   "metadata": {},
   "source": [
    "## Predictive Neural Network\n",
    "In this project, we'll build a pure python Neural Network and given the following information, the task is to predict the demand for the next 10 weeks (Weeks: 146-155) for the center-meal combinations in the test set:  \n",
    "\n",
    "- Historical data of demand for a product-center combination (Weeks: 1 to 145)\n",
    "- Product(Meal) features such as category, sub-category, current price and discount\n",
    "- Information for fulfillment center like center area, city information etc.\n",
    "\n",
    "## Food Demand Forecasting Data\n",
    "The data has been fetched from https://datahack.analyticsvidhya.com/contest/genpact-machine-learning-hackathon-1/\n",
    "\n",
    "## Evaluation Metric\n",
    "The evaluation metric for this competition is 100*RMSLE where RMSLE is Root of Mean Squared Logarithmic Error across all entries in the test set."
   ]
  },
  {
   "cell_type": "markdown",
   "metadata": {},
   "source": [
    "## Data Dictionary\n",
    " \n",
    "#### Weekly Demand data (train.csv): \n",
    "\n",
    "Contains the historical demand data for all centers, test.csv contains all the following features except the target variable\n",
    " \n",
    "\n",
    "| Variable              | Definition                                               |\n",
    "|-----------------------|----------------------------------------------------------|\n",
    "| id                    | Unique ID                                                |\n",
    "| week                  | Week No                                                  |\n",
    "| center_id             | Unique ID for fulfillment center                         |\n",
    "| meal_id               | Unique ID for Meal                                       |\n",
    "| checkout_price        | Final price including discount, taxes & delivery charges |\n",
    "| base_price            | Base price of the meal                                   |\n",
    "| emailer_for_promotion | Emailer sent for promotion of meal                       |\n",
    "| homepage_featured     | Meal featured at homepage                                |\n",
    "| num_orders            | (Target) Orders Count  \n",
    "   \n",
    "\n",
    "#### fulfilment_center_info.csv: \n",
    "Contains information for each fulfilment center\n",
    " \n",
    "\n",
    "| Variable    | Definition                       |\n",
    "|-------------|----------------------------------|\n",
    "| center_id   | Unique ID for fulfillment center |\n",
    "| city_code   | Unique code for city             |\n",
    "| region_code | Unique code for region           |\n",
    "| center_type | Anonymized center type           |\n",
    "| op_area     | Area of operation (in km^2)      |\n",
    " \n",
    "\n",
    "#### meal_info.csv: \n",
    "Contains information for each meal being served\n",
    " \n",
    "\n",
    "| Variable | Definition                              |\n",
    "|----------|-----------------------------------------|\n",
    "| meal_id  | Unique ID for the meal                  |\n",
    "| category | Type of meal (beverages/snacks/soups….) |\n",
    "| cuisine  | Meal cuisine (Indian/Italian/…)         |"
   ]
  },
  {
   "cell_type": "markdown",
   "metadata": {},
   "source": [
    "## Import packages"
   ]
  },
  {
   "cell_type": "code",
   "execution_count": 1,
   "metadata": {},
   "outputs": [],
   "source": [
    "%matplotlib inline\n",
    "%load_ext autoreload\n",
    "%autoreload 2\n",
    "%config InlineBackend.figure_format = 'retina'\n",
    "\n",
    "import numpy as np\n",
    "import pandas as pd\n",
    "import matplotlib.pyplot as plt\n",
    "from sklearn.preprocessing import LabelEncoder"
   ]
  },
  {
   "cell_type": "markdown",
   "metadata": {},
   "source": [
    "## Load and prepare the data"
   ]
  },
  {
   "cell_type": "code",
   "execution_count": 2,
   "metadata": {},
   "outputs": [
    {
     "name": "stdout",
     "output_type": "stream",
     "text": [
      "Wall time: 499 ms\n"
     ]
    }
   ],
   "source": [
    "%%time\n",
    "train = pd.read_csv('datasets/train.csv')\n",
    "test = pd.read_csv('datasets/test.csv')\n",
    "fulfilment_center = pd.read_csv('datasets/fulfilment_center_info.csv')\n",
    "meal_info = pd.read_csv('datasets/meal_info.csv')"
   ]
  },
  {
   "cell_type": "code",
   "execution_count": 3,
   "metadata": {},
   "outputs": [
    {
     "data": {
      "text/plain": [
       "((456548, 9), (77, 5), (51, 3), (32573, 8))"
      ]
     },
     "execution_count": 3,
     "metadata": {},
     "output_type": "execute_result"
    }
   ],
   "source": [
    "train.shape, fulfilment_center.shape, meal_info.shape, test.shape"
   ]
  },
  {
   "cell_type": "code",
   "execution_count": 4,
   "metadata": {},
   "outputs": [
    {
     "name": "stdout",
     "output_type": "stream",
     "text": [
      "<class 'pandas.core.frame.DataFrame'>\n",
      "RangeIndex: 456548 entries, 0 to 456547\n",
      "Data columns (total 9 columns):\n",
      "id                       456548 non-null int64\n",
      "week                     456548 non-null int64\n",
      "center_id                456548 non-null int64\n",
      "meal_id                  456548 non-null int64\n",
      "checkout_price           456548 non-null float64\n",
      "base_price               456548 non-null float64\n",
      "emailer_for_promotion    456548 non-null int64\n",
      "homepage_featured        456548 non-null int64\n",
      "num_orders               456548 non-null int64\n",
      "dtypes: float64(2), int64(7)\n",
      "memory usage: 31.3 MB\n"
     ]
    }
   ],
   "source": [
    "train.info()"
   ]
  },
  {
   "cell_type": "code",
   "execution_count": 5,
   "metadata": {},
   "outputs": [
    {
     "name": "stdout",
     "output_type": "stream",
     "text": [
      "<class 'pandas.core.frame.DataFrame'>\n",
      "RangeIndex: 77 entries, 0 to 76\n",
      "Data columns (total 5 columns):\n",
      "center_id      77 non-null int64\n",
      "city_code      77 non-null int64\n",
      "region_code    77 non-null int64\n",
      "center_type    77 non-null object\n",
      "op_area        77 non-null float64\n",
      "dtypes: float64(1), int64(3), object(1)\n",
      "memory usage: 3.1+ KB\n"
     ]
    }
   ],
   "source": [
    "fulfilment_center.info()"
   ]
  },
  {
   "cell_type": "code",
   "execution_count": 6,
   "metadata": {},
   "outputs": [
    {
     "name": "stdout",
     "output_type": "stream",
     "text": [
      "<class 'pandas.core.frame.DataFrame'>\n",
      "RangeIndex: 51 entries, 0 to 50\n",
      "Data columns (total 3 columns):\n",
      "meal_id     51 non-null int64\n",
      "category    51 non-null object\n",
      "cuisine     51 non-null object\n",
      "dtypes: int64(1), object(2)\n",
      "memory usage: 1.3+ KB\n"
     ]
    }
   ],
   "source": [
    "meal_info.info()"
   ]
  },
  {
   "cell_type": "code",
   "execution_count": 7,
   "metadata": {},
   "outputs": [
    {
     "name": "stdout",
     "output_type": "stream",
     "text": [
      "<class 'pandas.core.frame.DataFrame'>\n",
      "RangeIndex: 32573 entries, 0 to 32572\n",
      "Data columns (total 8 columns):\n",
      "id                       32573 non-null int64\n",
      "week                     32573 non-null int64\n",
      "center_id                32573 non-null int64\n",
      "meal_id                  32573 non-null int64\n",
      "checkout_price           32573 non-null float64\n",
      "base_price               32573 non-null float64\n",
      "emailer_for_promotion    32573 non-null int64\n",
      "homepage_featured        32573 non-null int64\n",
      "dtypes: float64(2), int64(6)\n",
      "memory usage: 2.0 MB\n"
     ]
    }
   ],
   "source": [
    "test.info()"
   ]
  },
  {
   "cell_type": "markdown",
   "metadata": {},
   "source": [
    "## Sample data"
   ]
  },
  {
   "cell_type": "code",
   "execution_count": 8,
   "metadata": {},
   "outputs": [
    {
     "data": {
      "text/html": [
       "<div>\n",
       "<style scoped>\n",
       "    .dataframe tbody tr th:only-of-type {\n",
       "        vertical-align: middle;\n",
       "    }\n",
       "\n",
       "    .dataframe tbody tr th {\n",
       "        vertical-align: top;\n",
       "    }\n",
       "\n",
       "    .dataframe thead th {\n",
       "        text-align: right;\n",
       "    }\n",
       "</style>\n",
       "<table border=\"1\" class=\"dataframe\">\n",
       "  <thead>\n",
       "    <tr style=\"text-align: right;\">\n",
       "      <th></th>\n",
       "      <th>id</th>\n",
       "      <th>week</th>\n",
       "      <th>center_id</th>\n",
       "      <th>meal_id</th>\n",
       "      <th>checkout_price</th>\n",
       "      <th>base_price</th>\n",
       "      <th>emailer_for_promotion</th>\n",
       "      <th>homepage_featured</th>\n",
       "      <th>num_orders</th>\n",
       "    </tr>\n",
       "  </thead>\n",
       "  <tbody>\n",
       "    <tr>\n",
       "      <td>0</td>\n",
       "      <td>1379560</td>\n",
       "      <td>1</td>\n",
       "      <td>55</td>\n",
       "      <td>1885</td>\n",
       "      <td>136.83</td>\n",
       "      <td>152.29</td>\n",
       "      <td>0</td>\n",
       "      <td>0</td>\n",
       "      <td>177</td>\n",
       "    </tr>\n",
       "    <tr>\n",
       "      <td>1</td>\n",
       "      <td>1466964</td>\n",
       "      <td>1</td>\n",
       "      <td>55</td>\n",
       "      <td>1993</td>\n",
       "      <td>136.83</td>\n",
       "      <td>135.83</td>\n",
       "      <td>0</td>\n",
       "      <td>0</td>\n",
       "      <td>270</td>\n",
       "    </tr>\n",
       "    <tr>\n",
       "      <td>2</td>\n",
       "      <td>1346989</td>\n",
       "      <td>1</td>\n",
       "      <td>55</td>\n",
       "      <td>2539</td>\n",
       "      <td>134.86</td>\n",
       "      <td>135.86</td>\n",
       "      <td>0</td>\n",
       "      <td>0</td>\n",
       "      <td>189</td>\n",
       "    </tr>\n",
       "    <tr>\n",
       "      <td>3</td>\n",
       "      <td>1338232</td>\n",
       "      <td>1</td>\n",
       "      <td>55</td>\n",
       "      <td>2139</td>\n",
       "      <td>339.50</td>\n",
       "      <td>437.53</td>\n",
       "      <td>0</td>\n",
       "      <td>0</td>\n",
       "      <td>54</td>\n",
       "    </tr>\n",
       "    <tr>\n",
       "      <td>4</td>\n",
       "      <td>1448490</td>\n",
       "      <td>1</td>\n",
       "      <td>55</td>\n",
       "      <td>2631</td>\n",
       "      <td>243.50</td>\n",
       "      <td>242.50</td>\n",
       "      <td>0</td>\n",
       "      <td>0</td>\n",
       "      <td>40</td>\n",
       "    </tr>\n",
       "  </tbody>\n",
       "</table>\n",
       "</div>"
      ],
      "text/plain": [
       "        id  week  center_id  meal_id  checkout_price  base_price  \\\n",
       "0  1379560     1         55     1885          136.83      152.29   \n",
       "1  1466964     1         55     1993          136.83      135.83   \n",
       "2  1346989     1         55     2539          134.86      135.86   \n",
       "3  1338232     1         55     2139          339.50      437.53   \n",
       "4  1448490     1         55     2631          243.50      242.50   \n",
       "\n",
       "   emailer_for_promotion  homepage_featured  num_orders  \n",
       "0                      0                  0         177  \n",
       "1                      0                  0         270  \n",
       "2                      0                  0         189  \n",
       "3                      0                  0          54  \n",
       "4                      0                  0          40  "
      ]
     },
     "execution_count": 8,
     "metadata": {},
     "output_type": "execute_result"
    }
   ],
   "source": [
    "train.head()"
   ]
  },
  {
   "cell_type": "code",
   "execution_count": 9,
   "metadata": {},
   "outputs": [
    {
     "data": {
      "text/html": [
       "<div>\n",
       "<style scoped>\n",
       "    .dataframe tbody tr th:only-of-type {\n",
       "        vertical-align: middle;\n",
       "    }\n",
       "\n",
       "    .dataframe tbody tr th {\n",
       "        vertical-align: top;\n",
       "    }\n",
       "\n",
       "    .dataframe thead th {\n",
       "        text-align: right;\n",
       "    }\n",
       "</style>\n",
       "<table border=\"1\" class=\"dataframe\">\n",
       "  <thead>\n",
       "    <tr style=\"text-align: right;\">\n",
       "      <th></th>\n",
       "      <th>center_id</th>\n",
       "      <th>city_code</th>\n",
       "      <th>region_code</th>\n",
       "      <th>center_type</th>\n",
       "      <th>op_area</th>\n",
       "    </tr>\n",
       "  </thead>\n",
       "  <tbody>\n",
       "    <tr>\n",
       "      <td>0</td>\n",
       "      <td>11</td>\n",
       "      <td>679</td>\n",
       "      <td>56</td>\n",
       "      <td>TYPE_A</td>\n",
       "      <td>3.7</td>\n",
       "    </tr>\n",
       "    <tr>\n",
       "      <td>1</td>\n",
       "      <td>13</td>\n",
       "      <td>590</td>\n",
       "      <td>56</td>\n",
       "      <td>TYPE_B</td>\n",
       "      <td>6.7</td>\n",
       "    </tr>\n",
       "    <tr>\n",
       "      <td>2</td>\n",
       "      <td>124</td>\n",
       "      <td>590</td>\n",
       "      <td>56</td>\n",
       "      <td>TYPE_C</td>\n",
       "      <td>4.0</td>\n",
       "    </tr>\n",
       "    <tr>\n",
       "      <td>3</td>\n",
       "      <td>66</td>\n",
       "      <td>648</td>\n",
       "      <td>34</td>\n",
       "      <td>TYPE_A</td>\n",
       "      <td>4.1</td>\n",
       "    </tr>\n",
       "    <tr>\n",
       "      <td>4</td>\n",
       "      <td>94</td>\n",
       "      <td>632</td>\n",
       "      <td>34</td>\n",
       "      <td>TYPE_C</td>\n",
       "      <td>3.6</td>\n",
       "    </tr>\n",
       "  </tbody>\n",
       "</table>\n",
       "</div>"
      ],
      "text/plain": [
       "   center_id  city_code  region_code center_type  op_area\n",
       "0         11        679           56      TYPE_A      3.7\n",
       "1         13        590           56      TYPE_B      6.7\n",
       "2        124        590           56      TYPE_C      4.0\n",
       "3         66        648           34      TYPE_A      4.1\n",
       "4         94        632           34      TYPE_C      3.6"
      ]
     },
     "execution_count": 9,
     "metadata": {},
     "output_type": "execute_result"
    }
   ],
   "source": [
    "fulfilment_center.head()"
   ]
  },
  {
   "cell_type": "code",
   "execution_count": 10,
   "metadata": {},
   "outputs": [
    {
     "data": {
      "text/html": [
       "<div>\n",
       "<style scoped>\n",
       "    .dataframe tbody tr th:only-of-type {\n",
       "        vertical-align: middle;\n",
       "    }\n",
       "\n",
       "    .dataframe tbody tr th {\n",
       "        vertical-align: top;\n",
       "    }\n",
       "\n",
       "    .dataframe thead th {\n",
       "        text-align: right;\n",
       "    }\n",
       "</style>\n",
       "<table border=\"1\" class=\"dataframe\">\n",
       "  <thead>\n",
       "    <tr style=\"text-align: right;\">\n",
       "      <th></th>\n",
       "      <th>meal_id</th>\n",
       "      <th>category</th>\n",
       "      <th>cuisine</th>\n",
       "    </tr>\n",
       "  </thead>\n",
       "  <tbody>\n",
       "    <tr>\n",
       "      <td>0</td>\n",
       "      <td>1885</td>\n",
       "      <td>Beverages</td>\n",
       "      <td>Thai</td>\n",
       "    </tr>\n",
       "    <tr>\n",
       "      <td>1</td>\n",
       "      <td>1993</td>\n",
       "      <td>Beverages</td>\n",
       "      <td>Thai</td>\n",
       "    </tr>\n",
       "    <tr>\n",
       "      <td>2</td>\n",
       "      <td>2539</td>\n",
       "      <td>Beverages</td>\n",
       "      <td>Thai</td>\n",
       "    </tr>\n",
       "    <tr>\n",
       "      <td>3</td>\n",
       "      <td>1248</td>\n",
       "      <td>Beverages</td>\n",
       "      <td>Indian</td>\n",
       "    </tr>\n",
       "    <tr>\n",
       "      <td>4</td>\n",
       "      <td>2631</td>\n",
       "      <td>Beverages</td>\n",
       "      <td>Indian</td>\n",
       "    </tr>\n",
       "  </tbody>\n",
       "</table>\n",
       "</div>"
      ],
      "text/plain": [
       "   meal_id   category cuisine\n",
       "0     1885  Beverages    Thai\n",
       "1     1993  Beverages    Thai\n",
       "2     2539  Beverages    Thai\n",
       "3     1248  Beverages  Indian\n",
       "4     2631  Beverages  Indian"
      ]
     },
     "execution_count": 10,
     "metadata": {},
     "output_type": "execute_result"
    }
   ],
   "source": [
    "meal_info.head()"
   ]
  },
  {
   "cell_type": "code",
   "execution_count": 11,
   "metadata": {},
   "outputs": [
    {
     "data": {
      "text/html": [
       "<div>\n",
       "<style scoped>\n",
       "    .dataframe tbody tr th:only-of-type {\n",
       "        vertical-align: middle;\n",
       "    }\n",
       "\n",
       "    .dataframe tbody tr th {\n",
       "        vertical-align: top;\n",
       "    }\n",
       "\n",
       "    .dataframe thead th {\n",
       "        text-align: right;\n",
       "    }\n",
       "</style>\n",
       "<table border=\"1\" class=\"dataframe\">\n",
       "  <thead>\n",
       "    <tr style=\"text-align: right;\">\n",
       "      <th></th>\n",
       "      <th>id</th>\n",
       "      <th>week</th>\n",
       "      <th>center_id</th>\n",
       "      <th>meal_id</th>\n",
       "      <th>checkout_price</th>\n",
       "      <th>base_price</th>\n",
       "      <th>emailer_for_promotion</th>\n",
       "      <th>homepage_featured</th>\n",
       "    </tr>\n",
       "  </thead>\n",
       "  <tbody>\n",
       "    <tr>\n",
       "      <td>0</td>\n",
       "      <td>1028232</td>\n",
       "      <td>146</td>\n",
       "      <td>55</td>\n",
       "      <td>1885</td>\n",
       "      <td>158.11</td>\n",
       "      <td>159.11</td>\n",
       "      <td>0</td>\n",
       "      <td>0</td>\n",
       "    </tr>\n",
       "    <tr>\n",
       "      <td>1</td>\n",
       "      <td>1127204</td>\n",
       "      <td>146</td>\n",
       "      <td>55</td>\n",
       "      <td>1993</td>\n",
       "      <td>160.11</td>\n",
       "      <td>159.11</td>\n",
       "      <td>0</td>\n",
       "      <td>0</td>\n",
       "    </tr>\n",
       "    <tr>\n",
       "      <td>2</td>\n",
       "      <td>1212707</td>\n",
       "      <td>146</td>\n",
       "      <td>55</td>\n",
       "      <td>2539</td>\n",
       "      <td>157.14</td>\n",
       "      <td>159.14</td>\n",
       "      <td>0</td>\n",
       "      <td>0</td>\n",
       "    </tr>\n",
       "    <tr>\n",
       "      <td>3</td>\n",
       "      <td>1082698</td>\n",
       "      <td>146</td>\n",
       "      <td>55</td>\n",
       "      <td>2631</td>\n",
       "      <td>162.02</td>\n",
       "      <td>162.02</td>\n",
       "      <td>0</td>\n",
       "      <td>0</td>\n",
       "    </tr>\n",
       "    <tr>\n",
       "      <td>4</td>\n",
       "      <td>1400926</td>\n",
       "      <td>146</td>\n",
       "      <td>55</td>\n",
       "      <td>1248</td>\n",
       "      <td>163.93</td>\n",
       "      <td>163.93</td>\n",
       "      <td>0</td>\n",
       "      <td>0</td>\n",
       "    </tr>\n",
       "  </tbody>\n",
       "</table>\n",
       "</div>"
      ],
      "text/plain": [
       "        id  week  center_id  meal_id  checkout_price  base_price  \\\n",
       "0  1028232   146         55     1885          158.11      159.11   \n",
       "1  1127204   146         55     1993          160.11      159.11   \n",
       "2  1212707   146         55     2539          157.14      159.14   \n",
       "3  1082698   146         55     2631          162.02      162.02   \n",
       "4  1400926   146         55     1248          163.93      163.93   \n",
       "\n",
       "   emailer_for_promotion  homepage_featured  \n",
       "0                      0                  0  \n",
       "1                      0                  0  \n",
       "2                      0                  0  \n",
       "3                      0                  0  \n",
       "4                      0                  0  "
      ]
     },
     "execution_count": 11,
     "metadata": {},
     "output_type": "execute_result"
    }
   ],
   "source": [
    "test.head()"
   ]
  },
  {
   "cell_type": "markdown",
   "metadata": {},
   "source": [
    "## Merge provided datasets"
   ]
  },
  {
   "cell_type": "code",
   "execution_count": 12,
   "metadata": {},
   "outputs": [
    {
     "name": "stdout",
     "output_type": "stream",
     "text": [
      "Wall time: 322 ms\n"
     ]
    },
    {
     "data": {
      "text/plain": [
       "((456548, 15), (32573, 14))"
      ]
     },
     "execution_count": 12,
     "metadata": {},
     "output_type": "execute_result"
    }
   ],
   "source": [
    "%%time\n",
    "train = pd.merge(train, fulfilment_center, how='left', on=['center_id'])\n",
    "test = pd.merge(test, fulfilment_center, how='left', on=['center_id'])\n",
    "train = pd.merge(train, meal_info, how='left', on=['meal_id'])\n",
    "test = pd.merge(test, meal_info, how='left', on=['meal_id'])\n",
    "train.shape,test.shape"
   ]
  },
  {
   "cell_type": "code",
   "execution_count": 13,
   "metadata": {},
   "outputs": [
    {
     "data": {
      "text/html": [
       "<div>\n",
       "<style scoped>\n",
       "    .dataframe tbody tr th:only-of-type {\n",
       "        vertical-align: middle;\n",
       "    }\n",
       "\n",
       "    .dataframe tbody tr th {\n",
       "        vertical-align: top;\n",
       "    }\n",
       "\n",
       "    .dataframe thead th {\n",
       "        text-align: right;\n",
       "    }\n",
       "</style>\n",
       "<table border=\"1\" class=\"dataframe\">\n",
       "  <thead>\n",
       "    <tr style=\"text-align: right;\">\n",
       "      <th></th>\n",
       "      <th>id</th>\n",
       "      <th>week</th>\n",
       "      <th>center_id</th>\n",
       "      <th>meal_id</th>\n",
       "      <th>checkout_price</th>\n",
       "      <th>base_price</th>\n",
       "      <th>emailer_for_promotion</th>\n",
       "      <th>homepage_featured</th>\n",
       "      <th>num_orders</th>\n",
       "      <th>city_code</th>\n",
       "      <th>region_code</th>\n",
       "      <th>center_type</th>\n",
       "      <th>op_area</th>\n",
       "      <th>category</th>\n",
       "      <th>cuisine</th>\n",
       "    </tr>\n",
       "  </thead>\n",
       "  <tbody>\n",
       "    <tr>\n",
       "      <td>0</td>\n",
       "      <td>1379560</td>\n",
       "      <td>1</td>\n",
       "      <td>55</td>\n",
       "      <td>1885</td>\n",
       "      <td>136.83</td>\n",
       "      <td>152.29</td>\n",
       "      <td>0</td>\n",
       "      <td>0</td>\n",
       "      <td>177</td>\n",
       "      <td>647</td>\n",
       "      <td>56</td>\n",
       "      <td>TYPE_C</td>\n",
       "      <td>2.0</td>\n",
       "      <td>Beverages</td>\n",
       "      <td>Thai</td>\n",
       "    </tr>\n",
       "    <tr>\n",
       "      <td>1</td>\n",
       "      <td>1466964</td>\n",
       "      <td>1</td>\n",
       "      <td>55</td>\n",
       "      <td>1993</td>\n",
       "      <td>136.83</td>\n",
       "      <td>135.83</td>\n",
       "      <td>0</td>\n",
       "      <td>0</td>\n",
       "      <td>270</td>\n",
       "      <td>647</td>\n",
       "      <td>56</td>\n",
       "      <td>TYPE_C</td>\n",
       "      <td>2.0</td>\n",
       "      <td>Beverages</td>\n",
       "      <td>Thai</td>\n",
       "    </tr>\n",
       "    <tr>\n",
       "      <td>2</td>\n",
       "      <td>1346989</td>\n",
       "      <td>1</td>\n",
       "      <td>55</td>\n",
       "      <td>2539</td>\n",
       "      <td>134.86</td>\n",
       "      <td>135.86</td>\n",
       "      <td>0</td>\n",
       "      <td>0</td>\n",
       "      <td>189</td>\n",
       "      <td>647</td>\n",
       "      <td>56</td>\n",
       "      <td>TYPE_C</td>\n",
       "      <td>2.0</td>\n",
       "      <td>Beverages</td>\n",
       "      <td>Thai</td>\n",
       "    </tr>\n",
       "    <tr>\n",
       "      <td>3</td>\n",
       "      <td>1338232</td>\n",
       "      <td>1</td>\n",
       "      <td>55</td>\n",
       "      <td>2139</td>\n",
       "      <td>339.50</td>\n",
       "      <td>437.53</td>\n",
       "      <td>0</td>\n",
       "      <td>0</td>\n",
       "      <td>54</td>\n",
       "      <td>647</td>\n",
       "      <td>56</td>\n",
       "      <td>TYPE_C</td>\n",
       "      <td>2.0</td>\n",
       "      <td>Beverages</td>\n",
       "      <td>Indian</td>\n",
       "    </tr>\n",
       "    <tr>\n",
       "      <td>4</td>\n",
       "      <td>1448490</td>\n",
       "      <td>1</td>\n",
       "      <td>55</td>\n",
       "      <td>2631</td>\n",
       "      <td>243.50</td>\n",
       "      <td>242.50</td>\n",
       "      <td>0</td>\n",
       "      <td>0</td>\n",
       "      <td>40</td>\n",
       "      <td>647</td>\n",
       "      <td>56</td>\n",
       "      <td>TYPE_C</td>\n",
       "      <td>2.0</td>\n",
       "      <td>Beverages</td>\n",
       "      <td>Indian</td>\n",
       "    </tr>\n",
       "  </tbody>\n",
       "</table>\n",
       "</div>"
      ],
      "text/plain": [
       "        id  week  center_id  meal_id  checkout_price  base_price  \\\n",
       "0  1379560     1         55     1885          136.83      152.29   \n",
       "1  1466964     1         55     1993          136.83      135.83   \n",
       "2  1346989     1         55     2539          134.86      135.86   \n",
       "3  1338232     1         55     2139          339.50      437.53   \n",
       "4  1448490     1         55     2631          243.50      242.50   \n",
       "\n",
       "   emailer_for_promotion  homepage_featured  num_orders  city_code  \\\n",
       "0                      0                  0         177        647   \n",
       "1                      0                  0         270        647   \n",
       "2                      0                  0         189        647   \n",
       "3                      0                  0          54        647   \n",
       "4                      0                  0          40        647   \n",
       "\n",
       "   region_code center_type  op_area   category cuisine  \n",
       "0           56      TYPE_C      2.0  Beverages    Thai  \n",
       "1           56      TYPE_C      2.0  Beverages    Thai  \n",
       "2           56      TYPE_C      2.0  Beverages    Thai  \n",
       "3           56      TYPE_C      2.0  Beverages  Indian  \n",
       "4           56      TYPE_C      2.0  Beverages  Indian  "
      ]
     },
     "execution_count": 13,
     "metadata": {},
     "output_type": "execute_result"
    }
   ],
   "source": [
    "train.head()"
   ]
  },
  {
   "cell_type": "markdown",
   "metadata": {},
   "source": [
    "## Feature Engineering"
   ]
  },
  {
   "cell_type": "markdown",
   "metadata": {},
   "source": [
    "### Group train and test"
   ]
  },
  {
   "cell_type": "code",
   "execution_count": 14,
   "metadata": {},
   "outputs": [
    {
     "name": "stderr",
     "output_type": "stream",
     "text": [
      "C:\\ProgramData\\Anaconda3\\lib\\site-packages\\pandas\\core\\frame.py:7123: FutureWarning: Sorting because non-concatenation axis is not aligned. A future version\n",
      "of pandas will change to not sort by default.\n",
      "\n",
      "To accept the future behavior, pass 'sort=False'.\n",
      "\n",
      "To retain the current behavior and silence the warning, pass 'sort=True'.\n",
      "\n",
      "  sort=sort,\n"
     ]
    }
   ],
   "source": [
    "train['train_or_test'] = 'train'\n",
    "test['train_or_test'] = 'test'\n",
    "total_data = train.append(test).reset_index(drop=True)[train.columns]"
   ]
  },
  {
   "cell_type": "markdown",
   "metadata": {},
   "source": [
    "### Sort and view data by combination of week, center_id and meal_id"
   ]
  },
  {
   "cell_type": "code",
   "execution_count": 15,
   "metadata": {},
   "outputs": [],
   "source": [
    "total_data = total_data.sort_values(['center_id', 'meal_id', 'week']).reset_index(drop=True)"
   ]
  },
  {
   "cell_type": "code",
   "execution_count": 16,
   "metadata": {},
   "outputs": [
    {
     "data": {
      "text/html": [
       "<div>\n",
       "<style scoped>\n",
       "    .dataframe tbody tr th:only-of-type {\n",
       "        vertical-align: middle;\n",
       "    }\n",
       "\n",
       "    .dataframe tbody tr th {\n",
       "        vertical-align: top;\n",
       "    }\n",
       "\n",
       "    .dataframe thead th {\n",
       "        text-align: right;\n",
       "    }\n",
       "</style>\n",
       "<table border=\"1\" class=\"dataframe\">\n",
       "  <thead>\n",
       "    <tr style=\"text-align: right;\">\n",
       "      <th></th>\n",
       "      <th>id</th>\n",
       "      <th>week</th>\n",
       "      <th>center_id</th>\n",
       "      <th>meal_id</th>\n",
       "      <th>checkout_price</th>\n",
       "      <th>base_price</th>\n",
       "      <th>emailer_for_promotion</th>\n",
       "      <th>homepage_featured</th>\n",
       "      <th>num_orders</th>\n",
       "      <th>city_code</th>\n",
       "      <th>region_code</th>\n",
       "      <th>center_type</th>\n",
       "      <th>op_area</th>\n",
       "      <th>category</th>\n",
       "      <th>cuisine</th>\n",
       "      <th>train_or_test</th>\n",
       "    </tr>\n",
       "  </thead>\n",
       "  <tbody>\n",
       "    <tr>\n",
       "      <td>0</td>\n",
       "      <td>1436842</td>\n",
       "      <td>1</td>\n",
       "      <td>10</td>\n",
       "      <td>1062</td>\n",
       "      <td>181.39</td>\n",
       "      <td>181.39</td>\n",
       "      <td>0</td>\n",
       "      <td>0</td>\n",
       "      <td>865.0</td>\n",
       "      <td>590</td>\n",
       "      <td>56</td>\n",
       "      <td>TYPE_B</td>\n",
       "      <td>6.3</td>\n",
       "      <td>Beverages</td>\n",
       "      <td>Italian</td>\n",
       "      <td>train</td>\n",
       "    </tr>\n",
       "    <tr>\n",
       "      <td>1</td>\n",
       "      <td>1205013</td>\n",
       "      <td>2</td>\n",
       "      <td>10</td>\n",
       "      <td>1062</td>\n",
       "      <td>183.36</td>\n",
       "      <td>182.36</td>\n",
       "      <td>0</td>\n",
       "      <td>0</td>\n",
       "      <td>782.0</td>\n",
       "      <td>590</td>\n",
       "      <td>56</td>\n",
       "      <td>TYPE_B</td>\n",
       "      <td>6.3</td>\n",
       "      <td>Beverages</td>\n",
       "      <td>Italian</td>\n",
       "      <td>train</td>\n",
       "    </tr>\n",
       "    <tr>\n",
       "      <td>2</td>\n",
       "      <td>1447751</td>\n",
       "      <td>3</td>\n",
       "      <td>10</td>\n",
       "      <td>1062</td>\n",
       "      <td>184.36</td>\n",
       "      <td>182.36</td>\n",
       "      <td>0</td>\n",
       "      <td>0</td>\n",
       "      <td>851.0</td>\n",
       "      <td>590</td>\n",
       "      <td>56</td>\n",
       "      <td>TYPE_B</td>\n",
       "      <td>6.3</td>\n",
       "      <td>Beverages</td>\n",
       "      <td>Italian</td>\n",
       "      <td>train</td>\n",
       "    </tr>\n",
       "    <tr>\n",
       "      <td>3</td>\n",
       "      <td>1014968</td>\n",
       "      <td>4</td>\n",
       "      <td>10</td>\n",
       "      <td>1062</td>\n",
       "      <td>182.36</td>\n",
       "      <td>183.36</td>\n",
       "      <td>0</td>\n",
       "      <td>0</td>\n",
       "      <td>1202.0</td>\n",
       "      <td>590</td>\n",
       "      <td>56</td>\n",
       "      <td>TYPE_B</td>\n",
       "      <td>6.3</td>\n",
       "      <td>Beverages</td>\n",
       "      <td>Italian</td>\n",
       "      <td>train</td>\n",
       "    </tr>\n",
       "    <tr>\n",
       "      <td>4</td>\n",
       "      <td>1003563</td>\n",
       "      <td>5</td>\n",
       "      <td>10</td>\n",
       "      <td>1062</td>\n",
       "      <td>183.39</td>\n",
       "      <td>181.39</td>\n",
       "      <td>0</td>\n",
       "      <td>0</td>\n",
       "      <td>958.0</td>\n",
       "      <td>590</td>\n",
       "      <td>56</td>\n",
       "      <td>TYPE_B</td>\n",
       "      <td>6.3</td>\n",
       "      <td>Beverages</td>\n",
       "      <td>Italian</td>\n",
       "      <td>train</td>\n",
       "    </tr>\n",
       "  </tbody>\n",
       "</table>\n",
       "</div>"
      ],
      "text/plain": [
       "        id  week  center_id  meal_id  checkout_price  base_price  \\\n",
       "0  1436842     1         10     1062          181.39      181.39   \n",
       "1  1205013     2         10     1062          183.36      182.36   \n",
       "2  1447751     3         10     1062          184.36      182.36   \n",
       "3  1014968     4         10     1062          182.36      183.36   \n",
       "4  1003563     5         10     1062          183.39      181.39   \n",
       "\n",
       "   emailer_for_promotion  homepage_featured  num_orders  city_code  \\\n",
       "0                      0                  0       865.0        590   \n",
       "1                      0                  0       782.0        590   \n",
       "2                      0                  0       851.0        590   \n",
       "3                      0                  0      1202.0        590   \n",
       "4                      0                  0       958.0        590   \n",
       "\n",
       "   region_code center_type  op_area   category  cuisine train_or_test  \n",
       "0           56      TYPE_B      6.3  Beverages  Italian         train  \n",
       "1           56      TYPE_B      6.3  Beverages  Italian         train  \n",
       "2           56      TYPE_B      6.3  Beverages  Italian         train  \n",
       "3           56      TYPE_B      6.3  Beverages  Italian         train  \n",
       "4           56      TYPE_B      6.3  Beverages  Italian         train  "
      ]
     },
     "execution_count": 16,
     "metadata": {},
     "output_type": "execute_result"
    }
   ],
   "source": [
    "total_data.head()"
   ]
  },
  {
   "cell_type": "markdown",
   "metadata": {},
   "source": [
    "### No of week in year"
   ]
  },
  {
   "cell_type": "code",
   "execution_count": 17,
   "metadata": {},
   "outputs": [],
   "source": [
    "total_data['week_num'] = total_data.week%52"
   ]
  },
  {
   "cell_type": "markdown",
   "metadata": {},
   "source": [
    "### Discount amount"
   ]
  },
  {
   "cell_type": "code",
   "execution_count": 18,
   "metadata": {},
   "outputs": [],
   "source": [
    "total_data['discount_amount'] = total_data.base_price-train.checkout_price"
   ]
  },
  {
   "cell_type": "code",
   "execution_count": 19,
   "metadata": {},
   "outputs": [],
   "source": [
    "total_data[\"discount_ratio\"] = total_data[\"base_price\"] / total_data[\"checkout_price\"]"
   ]
  },
  {
   "cell_type": "markdown",
   "metadata": {},
   "source": [
    "### Center count features"
   ]
  },
  {
   "cell_type": "code",
   "execution_count": 20,
   "metadata": {},
   "outputs": [],
   "source": [
    "gdf = total_data.groupby([\"center_id\", \"week\"])[\"id\"].agg(['size']).reset_index()\n",
    "gdf.columns = [\"center_id\", \"week\", \"center_week_count\"]\n",
    "total_data = pd.merge(total_data,gdf, on=[\"center_id\", \"week\"], how=\"left\")\n",
    "\n",
    "gdf = total_data.groupby([\"center_id\", \"category\"])[\"id\"].count().reset_index()\n",
    "gdf.columns = [\"center_id\", \"category\", \"center_cat_count\"]\n",
    "total_data = pd.merge(total_data,gdf, on=[\"center_id\", \"category\"], how=\"left\")\n",
    "\n",
    "gdf = total_data.groupby([\"center_id\", \"category\", \"week\"])[\"id\"].count().reset_index()\n",
    "gdf.columns = [\"center_id\", \"category\", \"week\", \"center_cat_week_count\"]\n",
    "total_data = pd.merge(total_data,gdf, on=[\"center_id\", \"category\", \"week\"], how=\"left\")\n",
    "\n",
    "gdf = total_data.groupby([\"center_id\", \"cuisine\"])[\"id\"].count().reset_index()\n",
    "gdf.columns = [\"center_id\", \"cuisine\", \"center_cui_count\"]\n",
    "total_data = pd.merge(total_data,gdf, on=[\"center_id\", \"cuisine\"], how=\"left\")"
   ]
  },
  {
   "cell_type": "markdown",
   "metadata": {},
   "source": [
    "### Meal count features"
   ]
  },
  {
   "cell_type": "code",
   "execution_count": 21,
   "metadata": {},
   "outputs": [],
   "source": [
    "gdf = total_data.groupby([\"meal_id\"])[\"id\"].count().reset_index()\n",
    "gdf.columns = [\"meal_id\", \"meal_count\"]\n",
    "total_data = pd.merge(total_data,gdf, on=[\"meal_id\"], how=\"left\")\n",
    "\n",
    "gdf = total_data.groupby([\"region_code\", \"meal_id\"])[\"id\"].count().reset_index()\n",
    "gdf.columns = [\"region_code\", \"meal_id\", \"region_meal_count\"]\n",
    "total_data= pd.merge(total_data,gdf, on=[\"region_code\", \"meal_id\"], how=\"left\")\n",
    "\n",
    "gdf = total_data.groupby([\"meal_id\", \"week\"])[\"id\"].count().reset_index()\n",
    "gdf.columns = [\"meal_id\", \"week\", \"meal_week_count\"]\n",
    "total_data = pd.merge(total_data,gdf, on=[\"meal_id\", \"week\"], how=\"left\")\n",
    "\n",
    "gdf =total_data.groupby([\"center_type\", \"meal_id\", \"week\"])[\"id\"].count().reset_index()\n",
    "gdf.columns = [\"center_type\", \"meal_id\", \"week\", \"type_meal_week_count\"]\n",
    "total_data = pd.merge(total_data,gdf, on=[\"center_type\", \"meal_id\", \"week\"], how=\"left\")\n",
    "\n",
    "gdf = total_data.groupby([\"region_code\", \"meal_id\", \"week\"])[\"id\"].count().reset_index()\n",
    "gdf.columns = [\"region_code\", \"meal_id\", \"week\", \"region_meal_week_count\"]\n",
    "total_data = pd.merge(total_data,gdf, on=[\"region_code\", \"meal_id\", \"week\"], how=\"left\")\n",
    "\n",
    "gdf =total_data.groupby([\"city_code\", \"meal_id\", \"week\"])[\"id\"].count().reset_index()\n",
    "gdf.columns = [\"city_code\", \"meal_id\", \"week\", \"city_meal_week_count\"]\n",
    "total_data = pd.merge(total_data,gdf, on=[\"city_code\", \"meal_id\", \"week\"], how=\"left\")"
   ]
  },
  {
   "cell_type": "markdown",
   "metadata": {},
   "source": [
    "### View data"
   ]
  },
  {
   "cell_type": "code",
   "execution_count": 22,
   "metadata": {},
   "outputs": [],
   "source": [
    "total_data = total_data.drop(['id', 'week', 'center_id', 'meal_id', 'region_code', 'city_code'], axis=1)"
   ]
  },
  {
   "cell_type": "code",
   "execution_count": 23,
   "metadata": {},
   "outputs": [
    {
     "data": {
      "text/html": [
       "<div>\n",
       "<style scoped>\n",
       "    .dataframe tbody tr th:only-of-type {\n",
       "        vertical-align: middle;\n",
       "    }\n",
       "\n",
       "    .dataframe tbody tr th {\n",
       "        vertical-align: top;\n",
       "    }\n",
       "\n",
       "    .dataframe thead th {\n",
       "        text-align: right;\n",
       "    }\n",
       "</style>\n",
       "<table border=\"1\" class=\"dataframe\">\n",
       "  <thead>\n",
       "    <tr style=\"text-align: right;\">\n",
       "      <th></th>\n",
       "      <th>checkout_price</th>\n",
       "      <th>base_price</th>\n",
       "      <th>emailer_for_promotion</th>\n",
       "      <th>homepage_featured</th>\n",
       "      <th>num_orders</th>\n",
       "      <th>center_type</th>\n",
       "      <th>op_area</th>\n",
       "      <th>category</th>\n",
       "      <th>cuisine</th>\n",
       "      <th>train_or_test</th>\n",
       "      <th>...</th>\n",
       "      <th>center_week_count</th>\n",
       "      <th>center_cat_count</th>\n",
       "      <th>center_cat_week_count</th>\n",
       "      <th>center_cui_count</th>\n",
       "      <th>meal_count</th>\n",
       "      <th>region_meal_count</th>\n",
       "      <th>meal_week_count</th>\n",
       "      <th>type_meal_week_count</th>\n",
       "      <th>region_meal_week_count</th>\n",
       "      <th>city_meal_week_count</th>\n",
       "    </tr>\n",
       "  </thead>\n",
       "  <tbody>\n",
       "    <tr>\n",
       "      <td>0</td>\n",
       "      <td>181.39</td>\n",
       "      <td>181.39</td>\n",
       "      <td>0</td>\n",
       "      <td>0</td>\n",
       "      <td>865.0</td>\n",
       "      <td>TYPE_B</td>\n",
       "      <td>6.3</td>\n",
       "      <td>Beverages</td>\n",
       "      <td>Italian</td>\n",
       "      <td>train</td>\n",
       "      <td>...</td>\n",
       "      <td>45</td>\n",
       "      <td>1859</td>\n",
       "      <td>12</td>\n",
       "      <td>1791</td>\n",
       "      <td>11903</td>\n",
       "      <td>4644</td>\n",
       "      <td>77</td>\n",
       "      <td>15</td>\n",
       "      <td>30</td>\n",
       "      <td>9</td>\n",
       "    </tr>\n",
       "    <tr>\n",
       "      <td>1</td>\n",
       "      <td>183.36</td>\n",
       "      <td>182.36</td>\n",
       "      <td>0</td>\n",
       "      <td>0</td>\n",
       "      <td>782.0</td>\n",
       "      <td>TYPE_B</td>\n",
       "      <td>6.3</td>\n",
       "      <td>Beverages</td>\n",
       "      <td>Italian</td>\n",
       "      <td>train</td>\n",
       "      <td>...</td>\n",
       "      <td>45</td>\n",
       "      <td>1859</td>\n",
       "      <td>12</td>\n",
       "      <td>1791</td>\n",
       "      <td>11903</td>\n",
       "      <td>4644</td>\n",
       "      <td>77</td>\n",
       "      <td>15</td>\n",
       "      <td>30</td>\n",
       "      <td>9</td>\n",
       "    </tr>\n",
       "    <tr>\n",
       "      <td>2</td>\n",
       "      <td>184.36</td>\n",
       "      <td>182.36</td>\n",
       "      <td>0</td>\n",
       "      <td>0</td>\n",
       "      <td>851.0</td>\n",
       "      <td>TYPE_B</td>\n",
       "      <td>6.3</td>\n",
       "      <td>Beverages</td>\n",
       "      <td>Italian</td>\n",
       "      <td>train</td>\n",
       "      <td>...</td>\n",
       "      <td>45</td>\n",
       "      <td>1859</td>\n",
       "      <td>12</td>\n",
       "      <td>1791</td>\n",
       "      <td>11903</td>\n",
       "      <td>4644</td>\n",
       "      <td>77</td>\n",
       "      <td>15</td>\n",
       "      <td>30</td>\n",
       "      <td>9</td>\n",
       "    </tr>\n",
       "    <tr>\n",
       "      <td>3</td>\n",
       "      <td>182.36</td>\n",
       "      <td>183.36</td>\n",
       "      <td>0</td>\n",
       "      <td>0</td>\n",
       "      <td>1202.0</td>\n",
       "      <td>TYPE_B</td>\n",
       "      <td>6.3</td>\n",
       "      <td>Beverages</td>\n",
       "      <td>Italian</td>\n",
       "      <td>train</td>\n",
       "      <td>...</td>\n",
       "      <td>44</td>\n",
       "      <td>1859</td>\n",
       "      <td>12</td>\n",
       "      <td>1791</td>\n",
       "      <td>11903</td>\n",
       "      <td>4644</td>\n",
       "      <td>77</td>\n",
       "      <td>15</td>\n",
       "      <td>30</td>\n",
       "      <td>9</td>\n",
       "    </tr>\n",
       "    <tr>\n",
       "      <td>4</td>\n",
       "      <td>183.39</td>\n",
       "      <td>181.39</td>\n",
       "      <td>0</td>\n",
       "      <td>0</td>\n",
       "      <td>958.0</td>\n",
       "      <td>TYPE_B</td>\n",
       "      <td>6.3</td>\n",
       "      <td>Beverages</td>\n",
       "      <td>Italian</td>\n",
       "      <td>train</td>\n",
       "      <td>...</td>\n",
       "      <td>44</td>\n",
       "      <td>1859</td>\n",
       "      <td>12</td>\n",
       "      <td>1791</td>\n",
       "      <td>11903</td>\n",
       "      <td>4644</td>\n",
       "      <td>76</td>\n",
       "      <td>14</td>\n",
       "      <td>30</td>\n",
       "      <td>9</td>\n",
       "    </tr>\n",
       "  </tbody>\n",
       "</table>\n",
       "<p>5 rows × 23 columns</p>\n",
       "</div>"
      ],
      "text/plain": [
       "   checkout_price  base_price  emailer_for_promotion  homepage_featured  \\\n",
       "0          181.39      181.39                      0                  0   \n",
       "1          183.36      182.36                      0                  0   \n",
       "2          184.36      182.36                      0                  0   \n",
       "3          182.36      183.36                      0                  0   \n",
       "4          183.39      181.39                      0                  0   \n",
       "\n",
       "   num_orders center_type  op_area   category  cuisine train_or_test  ...  \\\n",
       "0       865.0      TYPE_B      6.3  Beverages  Italian         train  ...   \n",
       "1       782.0      TYPE_B      6.3  Beverages  Italian         train  ...   \n",
       "2       851.0      TYPE_B      6.3  Beverages  Italian         train  ...   \n",
       "3      1202.0      TYPE_B      6.3  Beverages  Italian         train  ...   \n",
       "4       958.0      TYPE_B      6.3  Beverages  Italian         train  ...   \n",
       "\n",
       "   center_week_count  center_cat_count  center_cat_week_count  \\\n",
       "0                 45              1859                     12   \n",
       "1                 45              1859                     12   \n",
       "2                 45              1859                     12   \n",
       "3                 44              1859                     12   \n",
       "4                 44              1859                     12   \n",
       "\n",
       "   center_cui_count  meal_count  region_meal_count  meal_week_count  \\\n",
       "0              1791       11903               4644               77   \n",
       "1              1791       11903               4644               77   \n",
       "2              1791       11903               4644               77   \n",
       "3              1791       11903               4644               77   \n",
       "4              1791       11903               4644               76   \n",
       "\n",
       "   type_meal_week_count  region_meal_week_count  city_meal_week_count  \n",
       "0                    15                      30                     9  \n",
       "1                    15                      30                     9  \n",
       "2                    15                      30                     9  \n",
       "3                    15                      30                     9  \n",
       "4                    14                      30                     9  \n",
       "\n",
       "[5 rows x 23 columns]"
      ]
     },
     "execution_count": 23,
     "metadata": {},
     "output_type": "execute_result"
    }
   ],
   "source": [
    "total_data.head()"
   ]
  },
  {
   "cell_type": "code",
   "execution_count": 24,
   "metadata": {},
   "outputs": [
    {
     "name": "stdout",
     "output_type": "stream",
     "text": [
      "<class 'pandas.core.frame.DataFrame'>\n",
      "Int64Index: 489121 entries, 0 to 489120\n",
      "Data columns (total 23 columns):\n",
      "checkout_price            489121 non-null float64\n",
      "base_price                489121 non-null float64\n",
      "emailer_for_promotion     489121 non-null int64\n",
      "homepage_featured         489121 non-null int64\n",
      "num_orders                456548 non-null float64\n",
      "center_type               489121 non-null object\n",
      "op_area                   489121 non-null float64\n",
      "category                  489121 non-null object\n",
      "cuisine                   489121 non-null object\n",
      "train_or_test             489121 non-null object\n",
      "week_num                  489121 non-null int64\n",
      "discount_amount           456548 non-null float64\n",
      "discount_ratio            489121 non-null float64\n",
      "center_week_count         489121 non-null int64\n",
      "center_cat_count          489121 non-null int64\n",
      "center_cat_week_count     489121 non-null int64\n",
      "center_cui_count          489121 non-null int64\n",
      "meal_count                489121 non-null int64\n",
      "region_meal_count         489121 non-null int64\n",
      "meal_week_count           489121 non-null int64\n",
      "type_meal_week_count      489121 non-null int64\n",
      "region_meal_week_count    489121 non-null int64\n",
      "city_meal_week_count      489121 non-null int64\n",
      "dtypes: float64(6), int64(13), object(4)\n",
      "memory usage: 89.6+ MB\n"
     ]
    }
   ],
   "source": [
    "total_data.info()"
   ]
  },
  {
   "cell_type": "code",
   "execution_count": 25,
   "metadata": {},
   "outputs": [
    {
     "data": {
      "text/html": [
       "<div>\n",
       "<style scoped>\n",
       "    .dataframe tbody tr th:only-of-type {\n",
       "        vertical-align: middle;\n",
       "    }\n",
       "\n",
       "    .dataframe tbody tr th {\n",
       "        vertical-align: top;\n",
       "    }\n",
       "\n",
       "    .dataframe thead th {\n",
       "        text-align: right;\n",
       "    }\n",
       "</style>\n",
       "<table border=\"1\" class=\"dataframe\">\n",
       "  <thead>\n",
       "    <tr style=\"text-align: right;\">\n",
       "      <th></th>\n",
       "      <th>checkout_price</th>\n",
       "      <th>base_price</th>\n",
       "      <th>emailer_for_promotion</th>\n",
       "      <th>homepage_featured</th>\n",
       "      <th>num_orders</th>\n",
       "      <th>op_area</th>\n",
       "      <th>week_num</th>\n",
       "      <th>discount_amount</th>\n",
       "      <th>discount_ratio</th>\n",
       "      <th>center_week_count</th>\n",
       "      <th>center_cat_count</th>\n",
       "      <th>center_cat_week_count</th>\n",
       "      <th>center_cui_count</th>\n",
       "      <th>meal_count</th>\n",
       "      <th>region_meal_count</th>\n",
       "      <th>meal_week_count</th>\n",
       "      <th>type_meal_week_count</th>\n",
       "      <th>region_meal_week_count</th>\n",
       "      <th>city_meal_week_count</th>\n",
       "    </tr>\n",
       "  </thead>\n",
       "  <tbody>\n",
       "    <tr>\n",
       "      <td>count</td>\n",
       "      <td>489121.000000</td>\n",
       "      <td>489121.000000</td>\n",
       "      <td>489121.000000</td>\n",
       "      <td>489121.000000</td>\n",
       "      <td>456548.000000</td>\n",
       "      <td>489121.000000</td>\n",
       "      <td>489121.000000</td>\n",
       "      <td>456548.000000</td>\n",
       "      <td>489121.000000</td>\n",
       "      <td>489121.000000</td>\n",
       "      <td>489121.000000</td>\n",
       "      <td>489121.000000</td>\n",
       "      <td>489121.000000</td>\n",
       "      <td>489121.000000</td>\n",
       "      <td>489121.000000</td>\n",
       "      <td>489121.000000</td>\n",
       "      <td>489121.000000</td>\n",
       "      <td>489121.000000</td>\n",
       "      <td>489121.000000</td>\n",
       "    </tr>\n",
       "    <tr>\n",
       "      <td>mean</td>\n",
       "      <td>332.879277</td>\n",
       "      <td>354.312259</td>\n",
       "      <td>0.080172</td>\n",
       "      <td>0.107346</td>\n",
       "      <td>261.872760</td>\n",
       "      <td>4.083865</td>\n",
       "      <td>25.840099</td>\n",
       "      <td>22.037559</td>\n",
       "      <td>1.081643</td>\n",
       "      <td>41.854733</td>\n",
       "      <td>797.192693</td>\n",
       "      <td>5.263992</td>\n",
       "      <td>1645.522088</td>\n",
       "      <td>10346.169052</td>\n",
       "      <td>3031.011727</td>\n",
       "      <td>68.059603</td>\n",
       "      <td>28.728354</td>\n",
       "      <td>20.008957</td>\n",
       "      <td>2.730566</td>\n",
       "    </tr>\n",
       "    <tr>\n",
       "      <td>std</td>\n",
       "      <td>153.022073</td>\n",
       "      <td>160.352168</td>\n",
       "      <td>0.271560</td>\n",
       "      <td>0.309552</td>\n",
       "      <td>395.922798</td>\n",
       "      <td>1.092163</td>\n",
       "      <td>14.903933</td>\n",
       "      <td>221.461819</td>\n",
       "      <td>0.242382</td>\n",
       "      <td>5.396825</td>\n",
       "      <td>618.424386</td>\n",
       "      <td>3.952742</td>\n",
       "      <td>302.569548</td>\n",
       "      <td>2083.444162</td>\n",
       "      <td>1283.435836</td>\n",
       "      <td>13.216269</td>\n",
       "      <td>13.190793</td>\n",
       "      <td>8.378235</td>\n",
       "      <td>2.692796</td>\n",
       "    </tr>\n",
       "    <tr>\n",
       "      <td>min</td>\n",
       "      <td>2.970000</td>\n",
       "      <td>55.350000</td>\n",
       "      <td>0.000000</td>\n",
       "      <td>0.000000</td>\n",
       "      <td>13.000000</td>\n",
       "      <td>0.900000</td>\n",
       "      <td>0.000000</td>\n",
       "      <td>-671.240000</td>\n",
       "      <td>0.578738</td>\n",
       "      <td>16.000000</td>\n",
       "      <td>1.000000</td>\n",
       "      <td>1.000000</td>\n",
       "      <td>778.000000</td>\n",
       "      <td>2718.000000</td>\n",
       "      <td>33.000000</td>\n",
       "      <td>1.000000</td>\n",
       "      <td>1.000000</td>\n",
       "      <td>1.000000</td>\n",
       "      <td>1.000000</td>\n",
       "    </tr>\n",
       "    <tr>\n",
       "      <td>25%</td>\n",
       "      <td>228.010000</td>\n",
       "      <td>243.500000</td>\n",
       "      <td>0.000000</td>\n",
       "      <td>0.000000</td>\n",
       "      <td>54.000000</td>\n",
       "      <td>3.600000</td>\n",
       "      <td>13.000000</td>\n",
       "      <td>-127.040000</td>\n",
       "      <td>0.998529</td>\n",
       "      <td>38.000000</td>\n",
       "      <td>414.000000</td>\n",
       "      <td>3.000000</td>\n",
       "      <td>1472.000000</td>\n",
       "      <td>10020.000000</td>\n",
       "      <td>2380.000000</td>\n",
       "      <td>65.000000</td>\n",
       "      <td>15.000000</td>\n",
       "      <td>17.000000</td>\n",
       "      <td>1.000000</td>\n",
       "    </tr>\n",
       "    <tr>\n",
       "      <td>50%</td>\n",
       "      <td>299.760000</td>\n",
       "      <td>311.430000</td>\n",
       "      <td>0.000000</td>\n",
       "      <td>0.000000</td>\n",
       "      <td>136.000000</td>\n",
       "      <td>4.000000</td>\n",
       "      <td>26.000000</td>\n",
       "      <td>16.460000</td>\n",
       "      <td>1.000187</td>\n",
       "      <td>42.000000</td>\n",
       "      <td>463.000000</td>\n",
       "      <td>3.000000</td>\n",
       "      <td>1647.000000</td>\n",
       "      <td>11175.000000</td>\n",
       "      <td>3178.000000</td>\n",
       "      <td>74.000000</td>\n",
       "      <td>31.000000</td>\n",
       "      <td>21.000000</td>\n",
       "      <td>1.000000</td>\n",
       "    </tr>\n",
       "    <tr>\n",
       "      <td>75%</td>\n",
       "      <td>445.230000</td>\n",
       "      <td>458.810000</td>\n",
       "      <td>0.000000</td>\n",
       "      <td>0.000000</td>\n",
       "      <td>324.000000</td>\n",
       "      <td>4.500000</td>\n",
       "      <td>39.000000</td>\n",
       "      <td>164.900000</td>\n",
       "      <td>1.026664</td>\n",
       "      <td>46.000000</td>\n",
       "      <td>1726.000000</td>\n",
       "      <td>11.000000</td>\n",
       "      <td>1762.000000</td>\n",
       "      <td>11861.000000</td>\n",
       "      <td>4167.000000</td>\n",
       "      <td>77.000000</td>\n",
       "      <td>43.000000</td>\n",
       "      <td>28.000000</td>\n",
       "      <td>3.000000</td>\n",
       "    </tr>\n",
       "    <tr>\n",
       "      <td>max</td>\n",
       "      <td>1113.620000</td>\n",
       "      <td>1112.620000</td>\n",
       "      <td>1.000000</td>\n",
       "      <td>1.000000</td>\n",
       "      <td>24299.000000</td>\n",
       "      <td>7.000000</td>\n",
       "      <td>51.000000</td>\n",
       "      <td>937.990000</td>\n",
       "      <td>106.481481</td>\n",
       "      <td>51.000000</td>\n",
       "      <td>1859.000000</td>\n",
       "      <td>12.000000</td>\n",
       "      <td>2303.000000</td>\n",
       "      <td>11908.000000</td>\n",
       "      <td>4649.000000</td>\n",
       "      <td>77.000000</td>\n",
       "      <td>43.000000</td>\n",
       "      <td>30.000000</td>\n",
       "      <td>9.000000</td>\n",
       "    </tr>\n",
       "  </tbody>\n",
       "</table>\n",
       "</div>"
      ],
      "text/plain": [
       "       checkout_price     base_price  emailer_for_promotion  \\\n",
       "count   489121.000000  489121.000000          489121.000000   \n",
       "mean       332.879277     354.312259               0.080172   \n",
       "std        153.022073     160.352168               0.271560   \n",
       "min          2.970000      55.350000               0.000000   \n",
       "25%        228.010000     243.500000               0.000000   \n",
       "50%        299.760000     311.430000               0.000000   \n",
       "75%        445.230000     458.810000               0.000000   \n",
       "max       1113.620000    1112.620000               1.000000   \n",
       "\n",
       "       homepage_featured     num_orders        op_area       week_num  \\\n",
       "count      489121.000000  456548.000000  489121.000000  489121.000000   \n",
       "mean            0.107346     261.872760       4.083865      25.840099   \n",
       "std             0.309552     395.922798       1.092163      14.903933   \n",
       "min             0.000000      13.000000       0.900000       0.000000   \n",
       "25%             0.000000      54.000000       3.600000      13.000000   \n",
       "50%             0.000000     136.000000       4.000000      26.000000   \n",
       "75%             0.000000     324.000000       4.500000      39.000000   \n",
       "max             1.000000   24299.000000       7.000000      51.000000   \n",
       "\n",
       "       discount_amount  discount_ratio  center_week_count  center_cat_count  \\\n",
       "count    456548.000000   489121.000000      489121.000000     489121.000000   \n",
       "mean         22.037559        1.081643          41.854733        797.192693   \n",
       "std         221.461819        0.242382           5.396825        618.424386   \n",
       "min        -671.240000        0.578738          16.000000          1.000000   \n",
       "25%        -127.040000        0.998529          38.000000        414.000000   \n",
       "50%          16.460000        1.000187          42.000000        463.000000   \n",
       "75%         164.900000        1.026664          46.000000       1726.000000   \n",
       "max         937.990000      106.481481          51.000000       1859.000000   \n",
       "\n",
       "       center_cat_week_count  center_cui_count     meal_count  \\\n",
       "count          489121.000000     489121.000000  489121.000000   \n",
       "mean                5.263992       1645.522088   10346.169052   \n",
       "std                 3.952742        302.569548    2083.444162   \n",
       "min                 1.000000        778.000000    2718.000000   \n",
       "25%                 3.000000       1472.000000   10020.000000   \n",
       "50%                 3.000000       1647.000000   11175.000000   \n",
       "75%                11.000000       1762.000000   11861.000000   \n",
       "max                12.000000       2303.000000   11908.000000   \n",
       "\n",
       "       region_meal_count  meal_week_count  type_meal_week_count  \\\n",
       "count      489121.000000    489121.000000         489121.000000   \n",
       "mean         3031.011727        68.059603             28.728354   \n",
       "std          1283.435836        13.216269             13.190793   \n",
       "min            33.000000         1.000000              1.000000   \n",
       "25%          2380.000000        65.000000             15.000000   \n",
       "50%          3178.000000        74.000000             31.000000   \n",
       "75%          4167.000000        77.000000             43.000000   \n",
       "max          4649.000000        77.000000             43.000000   \n",
       "\n",
       "       region_meal_week_count  city_meal_week_count  \n",
       "count           489121.000000         489121.000000  \n",
       "mean                20.008957              2.730566  \n",
       "std                  8.378235              2.692796  \n",
       "min                  1.000000              1.000000  \n",
       "25%                 17.000000              1.000000  \n",
       "50%                 21.000000              1.000000  \n",
       "75%                 28.000000              3.000000  \n",
       "max                 30.000000              9.000000  "
      ]
     },
     "execution_count": 25,
     "metadata": {},
     "output_type": "execute_result"
    }
   ],
   "source": [
    "total_data.describe()"
   ]
  },
  {
   "cell_type": "markdown",
   "metadata": {},
   "source": [
    "### Resplit data"
   ]
  },
  {
   "cell_type": "code",
   "execution_count": 26,
   "metadata": {},
   "outputs": [],
   "source": [
    "train_data = total_data.loc[total_data['train_or_test']=='train', :]\n",
    "test_data = total_data.loc[total_data['train_or_test']=='test', :]"
   ]
  },
  {
   "cell_type": "code",
   "execution_count": 28,
   "metadata": {},
   "outputs": [],
   "source": [
    "for i in train_data.columns :\n",
    "    if train_data[i].dtypes=='object':\n",
    "        print(i)\n",
    "        le=LabelEncoder()\n",
    "        train_data[i]=le.fit_transform(train_data[i])\n",
    "        test_data[i]=le.transform(test_data[i])"
   ]
  },
  {
   "cell_type": "code",
   "execution_count": 29,
   "metadata": {},
   "outputs": [],
   "source": [
    "target_field = ['num_orders']\n",
    "features, targets = train_data.drop(target_field, axis=1), train_data[target_field]"
   ]
  },
  {
   "cell_type": "code",
   "execution_count": 30,
   "metadata": {},
   "outputs": [],
   "source": [
    "# Create validation set from train_data\n",
    "train_features, train_targets = features.sample(frac=0.6,random_state=200), targets.sample(frac=0.6,random_state=200)\n",
    "val_features, val_targets = features.drop(train_features.index), targets.drop(train_targets.index)"
   ]
  },
  {
   "cell_type": "code",
   "execution_count": 34,
   "metadata": {},
   "outputs": [
    {
     "data": {
      "text/plain": [
       "((273929, 22), (182619, 22), (273929, 1), (182619, 1))"
      ]
     },
     "execution_count": 34,
     "metadata": {},
     "output_type": "execute_result"
    }
   ],
   "source": [
    "train_features.shape, val_features.shape, train_targets.shape, val_targets.shape"
   ]
  },
  {
   "cell_type": "markdown",
   "metadata": {},
   "source": [
    "## Model building"
   ]
  },
  {
   "cell_type": "markdown",
   "metadata": {},
   "source": [
    "### Import python file for neural network functions"
   ]
  },
  {
   "cell_type": "code",
   "execution_count": 35,
   "metadata": {},
   "outputs": [],
   "source": [
    "from SimpleNeuralNetwork import NeuralNetwork"
   ]
  },
  {
   "cell_type": "markdown",
   "metadata": {},
   "source": [
    "### Define evaluation metric"
   ]
  },
  {
   "cell_type": "code",
   "execution_count": 36,
   "metadata": {},
   "outputs": [],
   "source": [
    "import numpy as np\n",
    "\n",
    "#A function to calculate Root Mean Squared Logarithmic Error (RMSLE)\n",
    "def rmsle(y_pred, y_test) : \n",
    "    assert len(y_test) == len(y_pred)\n",
    "    return np.sqrt(np.mean((np.log(1+y_pred) - np.log(1+y_test))**2))"
   ]
  },
  {
   "cell_type": "code",
   "execution_count": 42,
   "metadata": {},
   "outputs": [],
   "source": [
    "def MSE(y, Y):\n",
    "    return np.mean((y-Y)**2)"
   ]
  },
  {
   "cell_type": "markdown",
   "metadata": {},
   "source": [
    "### Get hyperparameters"
   ]
  },
  {
   "cell_type": "code",
   "execution_count": 43,
   "metadata": {},
   "outputs": [
    {
     "name": "stderr",
     "output_type": "stream",
     "text": [
      "C:\\ProgramData\\Anaconda3\\lib\\site-packages\\ipykernel_launcher.py:11: FutureWarning: \n",
      ".ix is deprecated. Please use\n",
      ".loc for label based indexing or\n",
      ".iloc for positional indexing\n",
      "\n",
      "See the documentation here:\n",
      "http://pandas.pydata.org/pandas-docs/stable/user_guide/indexing.html#ix-indexer-is-deprecated\n",
      "  # This is added back by InteractiveShellApp.init_path()\n"
     ]
    },
    {
     "name": "stdout",
     "output_type": "stream",
     "text": [
      "Progress: 100.0% ... Training loss: nan ... Validation loss: nan"
     ]
    }
   ],
   "source": [
    "import sys\n",
    "from SimpleNeuralNetwork import iterations, learning_rate, hidden_nodes, output_nodes\n",
    "\n",
    "N_i = train_features.shape[1]\n",
    "network = NeuralNetwork(N_i, hidden_nodes, output_nodes, learning_rate)\n",
    "\n",
    "losses = {'train':[], 'validation':[]}\n",
    "for ii in range(iterations):\n",
    "    # Go through a random batch of 128 records from the training data set\n",
    "    batch = np.random.choice(train_features.index, size=128)\n",
    "    X, y = train_features.ix[batch].values, train_targets.ix[batch]['num_orders']\n",
    "                             \n",
    "    network.train(X, y)\n",
    "    \n",
    "    # Printing out the training progress\n",
    "    train_loss = MSE(network.run(train_features).T, train_targets['num_orders'].values)\n",
    "    val_loss = MSE(network.run(val_features).T, val_targets['num_orders'].values)\n",
    "    sys.stdout.write(\"\\rProgress: {:2.1f}\".format(100 * ii/float(iterations)) \\\n",
    "                     + \"% ... Training loss: \" + str(train_loss)[:5] \\\n",
    "                     + \" ... Validation loss: \" + str(val_loss)[:5])\n",
    "    sys.stdout.flush()\n",
    "    \n",
    "    losses['train'].append(train_loss)\n",
    "    losses['validation'].append(val_loss)"
   ]
  },
  {
   "cell_type": "markdown",
   "metadata": {},
   "source": [
    "### Plot training and validation losses"
   ]
  },
  {
   "cell_type": "code",
   "execution_count": 46,
   "metadata": {},
   "outputs": [
    {
     "data": {
      "image/png": "[encoded data removed]",
      "text/plain": [
       "<Figure size 432x288 with 1 Axes>"
      ]
     },
     "metadata": {
      "image/png": {
       "height": 248,
       "width": 372
      },
      "needs_background": "light"
     },
     "output_type": "display_data"
    }
   ],
   "source": [
    "plt.plot(losses['train'], label='Training loss')\n",
    "plt.plot(losses['validation'], label='Validation loss')\n",
    "plt.legend()\n",
    "_ = plt.ylim()"
   ]
  },
  {
   "cell_type": "markdown",
   "metadata": {},
   "source": [
    "### Check out your predictions\n",
    "Here, use the test data to view how well your network is modeling the data. If something is completely wrong here, make sure each step in your network is implemented correctly."
   ]
  },
  {
   "cell_type": "code",
   "execution_count": 47,
   "metadata": {},
   "outputs": [
    {
     "ename": "NameError",
     "evalue": "name 'scaled_features' is not defined",
     "output_type": "error",
     "traceback": [
      "\u001b[1;31m---------------------------------------------------------------------------\u001b[0m",
      "\u001b[1;31mNameError\u001b[0m                                 Traceback (most recent call last)",
      "\u001b[1;32m<ipython-input-47-a5584e47f17c>\u001b[0m in \u001b[0;36m<module>\u001b[1;34m\u001b[0m\n\u001b[0;32m      1\u001b[0m \u001b[0mfig\u001b[0m\u001b[1;33m,\u001b[0m \u001b[0max\u001b[0m \u001b[1;33m=\u001b[0m \u001b[0mplt\u001b[0m\u001b[1;33m.\u001b[0m\u001b[0msubplots\u001b[0m\u001b[1;33m(\u001b[0m\u001b[0mfigsize\u001b[0m\u001b[1;33m=\u001b[0m\u001b[1;33m(\u001b[0m\u001b[1;36m8\u001b[0m\u001b[1;33m,\u001b[0m\u001b[1;36m4\u001b[0m\u001b[1;33m)\u001b[0m\u001b[1;33m)\u001b[0m\u001b[1;33m\u001b[0m\u001b[1;33m\u001b[0m\u001b[0m\n\u001b[0;32m      2\u001b[0m \u001b[1;33m\u001b[0m\u001b[0m\n\u001b[1;32m----> 3\u001b[1;33m \u001b[0mmean\u001b[0m\u001b[1;33m,\u001b[0m \u001b[0mstd\u001b[0m \u001b[1;33m=\u001b[0m \u001b[0mscaled_features\u001b[0m\u001b[1;33m[\u001b[0m\u001b[1;34m'cnt'\u001b[0m\u001b[1;33m]\u001b[0m\u001b[1;33m\u001b[0m\u001b[1;33m\u001b[0m\u001b[0m\n\u001b[0m\u001b[0;32m      4\u001b[0m \u001b[0mpredictions\u001b[0m \u001b[1;33m=\u001b[0m \u001b[0mnetwork\u001b[0m\u001b[1;33m.\u001b[0m\u001b[0mrun\u001b[0m\u001b[1;33m(\u001b[0m\u001b[0mtest_features\u001b[0m\u001b[1;33m)\u001b[0m\u001b[1;33m.\u001b[0m\u001b[0mT\u001b[0m\u001b[1;33m*\u001b[0m\u001b[0mstd\u001b[0m \u001b[1;33m+\u001b[0m \u001b[0mmean\u001b[0m\u001b[1;33m\u001b[0m\u001b[1;33m\u001b[0m\u001b[0m\n\u001b[0;32m      5\u001b[0m \u001b[0max\u001b[0m\u001b[1;33m.\u001b[0m\u001b[0mplot\u001b[0m\u001b[1;33m(\u001b[0m\u001b[0mpredictions\u001b[0m\u001b[1;33m[\u001b[0m\u001b[1;36m0\u001b[0m\u001b[1;33m]\u001b[0m\u001b[1;33m,\u001b[0m \u001b[0mlabel\u001b[0m\u001b[1;33m=\u001b[0m\u001b[1;34m'Prediction'\u001b[0m\u001b[1;33m)\u001b[0m\u001b[1;33m\u001b[0m\u001b[1;33m\u001b[0m\u001b[0m\n",
      "\u001b[1;31mNameError\u001b[0m: name 'scaled_features' is not defined"
     ]
    },
    {
     "data": {
      "image/png": "[encoded data removed]",
      "text/plain": [
       "<Figure size 576x288 with 1 Axes>"
      ]
     },
     "metadata": {
      "image/png": {
       "height": 252,
       "width": 491
      },
      "needs_background": "light"
     },
     "output_type": "display_data"
    }
   ],
   "source": [
    "fig, ax = plt.subplots(figsize=(8,4))\n",
    "\n",
    "mean, std = scaled_features['cnt']\n",
    "predictions = network.run(test_features).T*std + mean\n",
    "ax.plot(predictions[0], label='Prediction')\n",
    "ax.plot((test_targets['cnt']*std + mean).values, label='Data')\n",
    "ax.set_xlim(right=len(predictions))\n",
    "ax.legend()\n",
    "\n",
    "dates = pd.to_datetime(rides.ix[test_data.index]['dteday'])\n",
    "dates = dates.apply(lambda d: d.strftime('%b %d'))\n",
    "ax.set_xticks(np.arange(len(dates))[12::24])\n",
    "_ = ax.set_xticklabels(dates[12::24], rotation=45)"
   ]
  },
  {
   "cell_type": "code",
   "execution_count": null,
   "metadata": {},
   "outputs": [],
   "source": []
  }
 ],
 "metadata": {
  "kernelspec": {
   "display_name": "Python 3",
   "language": "python",
   "name": "python3"
  },
  "language_info": {
   "codemirror_mode": {
    "name": "ipython",
    "version": 3
   },
   "file_extension": ".py",
   "mimetype": "text/x-python",
   "name": "python",
   "nbconvert_exporter": "python",
   "pygments_lexer": "ipython3",
   "version": "3.7.3"
  },
  "toc": {
   "base_numbering": 1,
   "nav_menu": {},
   "number_sections": true,
   "sideBar": true,
   "skip_h1_title": false,
   "title_cell": "Table of Contents",
   "title_sidebar": "Contents",
   "toc_cell": false,
   "toc_position": {},
   "toc_section_display": true,
   "toc_window_display": true
  }
 },
 "nbformat": 4,
 "nbformat_minor": 2
}
